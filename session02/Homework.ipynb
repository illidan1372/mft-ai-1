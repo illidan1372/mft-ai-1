{
 "cells": [
  {
   "cell_type": "markdown",
   "id": "787426aa",
   "metadata": {},
   "source": [
    "# 1.تابعی بنویسید که رشته‌ای مانند بصورت \"2+3\" بگیرد و جمع را انجام دهد. عملیات‌های قابل قبولی شامل +,-,/,* است."
   ]
  },
  {
   "cell_type": "code",
   "execution_count": 16,
   "id": "e8660a30",
   "metadata": {},
   "outputs": [],
   "source": [
    "def do_math(text:str) -> int:\n",
    "    legal_operations = ['+','-','*','/']\n",
    "    number = []\n",
    "    operation = []\n",
    "    for i in text:\n",
    "        if i.isnumeric():\n",
    "            number.append(i)\n",
    "        else:\n",
    "            operation.append(i)\n",
    "        if operation[-1] not in legal_operations:\n",
    "            print(\"illegal operation!\")\n",
    "            return\n",
    "    print(number)\n",
    "    print(operation)"
   ]
  },
  {
   "cell_type": "code",
   "execution_count": 20,
   "id": "0e730e9f",
   "metadata": {},
   "outputs": [
    {
     "name": "stdout",
     "output_type": "stream",
     "text": [
      "['1', '4', '4', '2']\n",
      "['-', '+']\n"
     ]
    }
   ],
   "source": [
    "do_math(\"-144+2\")"
   ]
  },
  {
   "cell_type": "markdown",
   "id": "d92070cc",
   "metadata": {},
   "source": [
    "# 2.تابعی بنویسید که رشته مانند زیر را به عنوان آرگومان بگیرد و به لیست با نوع داده‌ای مناسب تبدیل کند"
   ]
  },
  {
   "cell_type": "code",
   "execution_count": 25,
   "id": "0057a146",
   "metadata": {},
   "outputs": [],
   "source": [
    "from typing import List"
   ]
  },
  {
   "cell_type": "code",
   "execution_count": 47,
   "id": "f032cfd7",
   "metadata": {},
   "outputs": [],
   "source": [
    "def splitter(string:str) -> List:\n",
    "    result = []\n",
    "    try:\n",
    "        list = string.split(\",\")\n",
    "    except:\n",
    "        print(\"words must be separated by a single comma and no space!\")\n",
    "        return\n",
    "    for i in list:\n",
    "        try:\n",
    "            j = float(i)\n",
    "            result.append(j)\n",
    "        except:\n",
    "            result.append(i)\n",
    "            \n",
    "       \n",
    "    return result"
   ]
  },
  {
   "cell_type": "code",
   "execution_count": 48,
   "id": "818924dc",
   "metadata": {},
   "outputs": [
    {
     "data": {
      "text/plain": [
       "[1.0, 's', 'ddd', -1.0]"
      ]
     },
     "execution_count": 48,
     "metadata": {},
     "output_type": "execute_result"
    }
   ],
   "source": [
    "splitter(\"1,s,ddd,-1\")"
   ]
  },
  {
   "cell_type": "markdown",
   "id": "895e43cb",
   "metadata": {},
   "source": [
    "# 3.تابع بالا را به طوری پیاده‌سازی کنید که دو آرگومان بگیرد. اولی رشته عناوین و دومی رشته مقادیر باشد. سپس هر عنوان را کنار مقدار آن به لیست خروجی اضافه کند."
   ]
  },
  {
   "cell_type": "code",
   "execution_count": 62,
   "id": "6ec10593",
   "metadata": {},
   "outputs": [],
   "source": [
    "def dictionary_maker(keys_str:str , values_str:str) -> dict[str,str]:\n",
    "    try:\n",
    "        keys = keys_str.split(\",\")\n",
    "        values = values_str.split(\",\")\n",
    "    except:\n",
    "        print(\"words must be separated by a single comma and no space!\")\n",
    "        return\n",
    "    assert len(keys) == len(values) , \"the keys and values strings must have equal number of words!\"\n",
    "    result = {keys[i]: values[i] for i in range(len(keys))}\n",
    "    return result"
   ]
  },
  {
   "cell_type": "code",
   "execution_count": 64,
   "id": "1eb8c3f4",
   "metadata": {},
   "outputs": [
    {
     "name": "stdout",
     "output_type": "stream",
     "text": [
      "{'name': 'alireza', 'family': 'alavi', 'age': '23', 'location': 'tehran'}\n"
     ]
    }
   ],
   "source": [
    "print(dictionary_maker(\"name,family,age,location\",\"alireza,alavi,23,tehran\"))"
   ]
  },
  {
   "cell_type": "markdown",
   "id": "8abea14b",
   "metadata": {},
   "source": [
    "# 4.یک برنامه بنویسید که n متن از کاربر بگیرد. هر متن شامل اسم آهنگ و ژانر آن است. سپس تعداد آهنگ‌های rock و metal را محاسبه و چاپ کنید. (برای این کار باید از عملگر in برای چک کردن زیررشته در یک رشته استفاده کنید)"
   ]
  },
  {
   "cell_type": "code",
   "execution_count": null,
   "id": "e58b244d",
   "metadata": {},
   "outputs": [],
   "source": []
  }
 ],
 "metadata": {
  "kernelspec": {
   "display_name": "Python 3 (ipykernel)",
   "language": "python",
   "name": "python3"
  },
  "language_info": {
   "codemirror_mode": {
    "name": "ipython",
    "version": 3
   },
   "file_extension": ".py",
   "mimetype": "text/x-python",
   "name": "python",
   "nbconvert_exporter": "python",
   "pygments_lexer": "ipython3",
   "version": "3.10.12"
  }
 },
 "nbformat": 4,
 "nbformat_minor": 5
}
